{
 "cells": [
  {
   "cell_type": "code",
   "execution_count": null,
   "metadata": {},
   "outputs": [],
   "source": []
  },
  {
   "cell_type": "markdown",
   "metadata": {},
   "source": [
    "## 3. 음향 모델\n",
    "\n",
    "음성인식에서 음성 데이터의 특징을 추출하는 데 사용되는 모델\n",
    "음성 데이터를 시간에 따라 숨겨진 상태로 모델링하고, 이 상태를 사용하여 음성의 특징 추출\n",
    "\n",
    "음향 모델 구성 요소\n",
    "\n",
    "초기 상태 분포 - 음성 인식 시작 부분에서 음성 상태가 어떤 것일지 확률적으로 나타내는 분포\n",
    "\n",
    "상태 전이 확률 - 한 상태에서 다음 상태로 전이할 확률을 나타내는 행렬\n",
    "\n",
    "관측 확률  - 각 상태에서 관측될 수 있는 음성 신호의 확률을 나타내는 행렬\n",
    "\n",
    "\n",
    "음향 모델 종류\n",
    "HMM( Hidden Markov Model )\n",
    "GMM( Gaussian Mixture Model )\n",
    "GMM-HMM\n",
    "DNN-HMM\n"
   ]
  },
  {
   "cell_type": "markdown",
   "metadata": {},
   "source": [
    "#HMM(Hidden Markov Model)\n",
    "\n",
    "HMM은 Markov Chain을  전제로 한 모델\n",
    "\n",
    "Markov Chain\n",
    "    마코프 성질을 가진 이산 확률 과정\n",
    "    마코프 성질 - 한 상태(state) qi가 나타날 확률은 단지 이전 상태 qi-q에만 의존한다.\n",
    "        한 상태에서 다른 상태로의 전이는 그동안 상태 전이에 대한 긴이력을 필요로 하지 않고 바로 직전 상태로의 전이로 추정할 수 있다.\n",
    "    \n",
    "    마코프 체인은 시간 변화에 따른 상태들의 분포 추적에 관심을 갖는다.\n",
    "\n"
   ]
  },
  {
   "cell_type": "markdown",
   "metadata": {},
   "source": []
  }
 ],
 "metadata": {
  "kernelspec": {
   "display_name": "speechenv",
   "language": "python",
   "name": "python3"
  },
  "language_info": {
   "codemirror_mode": {
    "name": "ipython",
    "version": 3
   },
   "file_extension": ".py",
   "mimetype": "text/x-python",
   "name": "python",
   "nbconvert_exporter": "python",
   "pygments_lexer": "ipython3",
   "version": "3.8.1"
  },
  "orig_nbformat": 4
 },
 "nbformat": 4,
 "nbformat_minor": 2
}
