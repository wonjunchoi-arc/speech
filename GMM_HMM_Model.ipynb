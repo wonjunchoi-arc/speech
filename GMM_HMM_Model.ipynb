{
 "cells": [
  {
   "cell_type": "markdown",
   "metadata": {},
   "source": []
  },
  {
   "cell_type": "code",
   "execution_count": 3,
   "metadata": {},
   "outputs": [],
   "source": [
    "import random\n",
    "\n",
    "import os\n",
    "from tqdm import tqdm\n",
    "\n",
    "import numpy as np\n",
    "import matplotlib.pyplot as plt\n",
    "\n",
    "import soundfile as sf\n",
    "import librosa\n",
    "import librosa.display\n",
    "import random\n",
    "from hmmlearn import hmm\n",
    "\n",
    "import IPython.display as idp\n",
    "\n",
    "# 푸리에 변환을 위한 라이브러리\n",
    "import math\n",
    "from scipy.interpolate import splrep, splev"
   ]
  },
  {
   "cell_type": "markdown",
   "metadata": {},
   "source": [
    "## GMM-HMM"
   ]
  },
  {
   "cell_type": "code",
   "execution_count": 4,
   "metadata": {},
   "outputs": [],
   "source": [
    "np.random.seed(0)\n",
    "n_samples =100\n",
    "n_features = 1\n",
    "observed_data = np.random.randn(n_samples, n_features)"
   ]
  },
  {
   "cell_type": "code",
   "execution_count": 5,
   "metadata": {},
   "outputs": [],
   "source": [
    "n_states =3 # 은닉상태수 \n",
    "n_components =2 # GMM components\n",
    "n_iterations = 10 # EM 반복 횟수 "
   ]
  },
  {
   "cell_type": "code",
   "execution_count": 6,
   "metadata": {},
   "outputs": [
    {
     "data": {
      "text/html": [
       "<style>#sk-container-id-1 {color: black;}#sk-container-id-1 pre{padding: 0;}#sk-container-id-1 div.sk-toggleable {background-color: white;}#sk-container-id-1 label.sk-toggleable__label {cursor: pointer;display: block;width: 100%;margin-bottom: 0;padding: 0.3em;box-sizing: border-box;text-align: center;}#sk-container-id-1 label.sk-toggleable__label-arrow:before {content: \"▸\";float: left;margin-right: 0.25em;color: #696969;}#sk-container-id-1 label.sk-toggleable__label-arrow:hover:before {color: black;}#sk-container-id-1 div.sk-estimator:hover label.sk-toggleable__label-arrow:before {color: black;}#sk-container-id-1 div.sk-toggleable__content {max-height: 0;max-width: 0;overflow: hidden;text-align: left;background-color: #f0f8ff;}#sk-container-id-1 div.sk-toggleable__content pre {margin: 0.2em;color: black;border-radius: 0.25em;background-color: #f0f8ff;}#sk-container-id-1 input.sk-toggleable__control:checked~div.sk-toggleable__content {max-height: 200px;max-width: 100%;overflow: auto;}#sk-container-id-1 input.sk-toggleable__control:checked~label.sk-toggleable__label-arrow:before {content: \"▾\";}#sk-container-id-1 div.sk-estimator input.sk-toggleable__control:checked~label.sk-toggleable__label {background-color: #d4ebff;}#sk-container-id-1 div.sk-label input.sk-toggleable__control:checked~label.sk-toggleable__label {background-color: #d4ebff;}#sk-container-id-1 input.sk-hidden--visually {border: 0;clip: rect(1px 1px 1px 1px);clip: rect(1px, 1px, 1px, 1px);height: 1px;margin: -1px;overflow: hidden;padding: 0;position: absolute;width: 1px;}#sk-container-id-1 div.sk-estimator {font-family: monospace;background-color: #f0f8ff;border: 1px dotted black;border-radius: 0.25em;box-sizing: border-box;margin-bottom: 0.5em;}#sk-container-id-1 div.sk-estimator:hover {background-color: #d4ebff;}#sk-container-id-1 div.sk-parallel-item::after {content: \"\";width: 100%;border-bottom: 1px solid gray;flex-grow: 1;}#sk-container-id-1 div.sk-label:hover label.sk-toggleable__label {background-color: #d4ebff;}#sk-container-id-1 div.sk-serial::before {content: \"\";position: absolute;border-left: 1px solid gray;box-sizing: border-box;top: 0;bottom: 0;left: 50%;z-index: 0;}#sk-container-id-1 div.sk-serial {display: flex;flex-direction: column;align-items: center;background-color: white;padding-right: 0.2em;padding-left: 0.2em;position: relative;}#sk-container-id-1 div.sk-item {position: relative;z-index: 1;}#sk-container-id-1 div.sk-parallel {display: flex;align-items: stretch;justify-content: center;background-color: white;position: relative;}#sk-container-id-1 div.sk-item::before, #sk-container-id-1 div.sk-parallel-item::before {content: \"\";position: absolute;border-left: 1px solid gray;box-sizing: border-box;top: 0;bottom: 0;left: 50%;z-index: -1;}#sk-container-id-1 div.sk-parallel-item {display: flex;flex-direction: column;z-index: 1;position: relative;background-color: white;}#sk-container-id-1 div.sk-parallel-item:first-child::after {align-self: flex-end;width: 50%;}#sk-container-id-1 div.sk-parallel-item:last-child::after {align-self: flex-start;width: 50%;}#sk-container-id-1 div.sk-parallel-item:only-child::after {width: 0;}#sk-container-id-1 div.sk-dashed-wrapped {border: 1px dashed gray;margin: 0 0.4em 0.5em 0.4em;box-sizing: border-box;padding-bottom: 0.4em;background-color: white;}#sk-container-id-1 div.sk-label label {font-family: monospace;font-weight: bold;display: inline-block;line-height: 1.2em;}#sk-container-id-1 div.sk-label-container {text-align: center;}#sk-container-id-1 div.sk-container {/* jupyter's `normalize.less` sets `[hidden] { display: none; }` but bootstrap.min.css set `[hidden] { display: none !important; }` so we also need the `!important` here to be able to override the default hidden behavior on the sphinx rendered scikit-learn.org. See: https://github.com/scikit-learn/scikit-learn/issues/21755 */display: inline-block !important;position: relative;}#sk-container-id-1 div.sk-text-repr-fallback {display: none;}</style><div id=\"sk-container-id-1\" class=\"sk-top-container\"><div class=\"sk-text-repr-fallback\"><pre>GMMHMM(covars_prior=array([[[-1.5],\n",
       "        [-1.5]],\n",
       "\n",
       "       [[-1.5],\n",
       "        [-1.5]],\n",
       "\n",
       "       [[-1.5],\n",
       "        [-1.5]]]),\n",
       "       covars_weight=array([[[0.],\n",
       "        [0.]],\n",
       "\n",
       "       [[0.],\n",
       "        [0.]],\n",
       "\n",
       "       [[0.],\n",
       "        [0.]]]),\n",
       "       means_prior=array([[[0.],\n",
       "        [0.]],\n",
       "\n",
       "       [[0.],\n",
       "        [0.]],\n",
       "\n",
       "       [[0.],\n",
       "        [0.]]]),\n",
       "       means_weight=array([[0., 0.],\n",
       "       [0., 0.],\n",
       "       [0., 0.]]),\n",
       "       n_components=3, n_mix=2, random_state=0,\n",
       "       weights_prior=array([[1., 1.],\n",
       "       [1., 1.],\n",
       "       [1., 1.]]))</pre><b>In a Jupyter environment, please rerun this cell to show the HTML representation or trust the notebook. <br />On GitHub, the HTML representation is unable to render, please try loading this page with nbviewer.org.</b></div><div class=\"sk-container\" hidden><div class=\"sk-item\"><div class=\"sk-estimator sk-toggleable\"><input class=\"sk-toggleable__control sk-hidden--visually\" id=\"sk-estimator-id-1\" type=\"checkbox\" checked><label for=\"sk-estimator-id-1\" class=\"sk-toggleable__label sk-toggleable__label-arrow\">GMMHMM</label><div class=\"sk-toggleable__content\"><pre>GMMHMM(covars_prior=array([[[-1.5],\n",
       "        [-1.5]],\n",
       "\n",
       "       [[-1.5],\n",
       "        [-1.5]],\n",
       "\n",
       "       [[-1.5],\n",
       "        [-1.5]]]),\n",
       "       covars_weight=array([[[0.],\n",
       "        [0.]],\n",
       "\n",
       "       [[0.],\n",
       "        [0.]],\n",
       "\n",
       "       [[0.],\n",
       "        [0.]]]),\n",
       "       means_prior=array([[[0.],\n",
       "        [0.]],\n",
       "\n",
       "       [[0.],\n",
       "        [0.]],\n",
       "\n",
       "       [[0.],\n",
       "        [0.]]]),\n",
       "       means_weight=array([[0., 0.],\n",
       "       [0., 0.],\n",
       "       [0., 0.]]),\n",
       "       n_components=3, n_mix=2, random_state=0,\n",
       "       weights_prior=array([[1., 1.],\n",
       "       [1., 1.],\n",
       "       [1., 1.]]))</pre></div></div></div></div></div>"
      ],
      "text/plain": [
       "GMMHMM(covars_prior=array([[[-1.5],\n",
       "        [-1.5]],\n",
       "\n",
       "       [[-1.5],\n",
       "        [-1.5]],\n",
       "\n",
       "       [[-1.5],\n",
       "        [-1.5]]]),\n",
       "       covars_weight=array([[[0.],\n",
       "        [0.]],\n",
       "\n",
       "       [[0.],\n",
       "        [0.]],\n",
       "\n",
       "       [[0.],\n",
       "        [0.]]]),\n",
       "       means_prior=array([[[0.],\n",
       "        [0.]],\n",
       "\n",
       "       [[0.],\n",
       "        [0.]],\n",
       "\n",
       "       [[0.],\n",
       "        [0.]]]),\n",
       "       means_weight=array([[0., 0.],\n",
       "       [0., 0.],\n",
       "       [0., 0.]]),\n",
       "       n_components=3, n_mix=2, random_state=0,\n",
       "       weights_prior=array([[1., 1.],\n",
       "       [1., 1.],\n",
       "       [1., 1.]]))"
      ]
     },
     "execution_count": 6,
     "metadata": {},
     "output_type": "execute_result"
    }
   ],
   "source": [
    "# GMM-HMM생성\n",
    "model = hmm.GMMHMM(n_components= n_states, n_mix =n_components,covariance_type = 'diag', n_iter=n_iterations,\n",
    "                    random_state= 0)# 모델 생성\n",
    "model.fit(observed_data)\n",
    "                    "
   ]
  },
  {
   "cell_type": "code",
   "execution_count": 7,
   "metadata": {},
   "outputs": [],
   "source": [
    "# 디코딩(추론)\n",
    "new_observed_data = np.random.randn(n_samples, n_features)\n",
    "log_likelihood, state_sequence =model.decode(new_observed_data)"
   ]
  },
  {
   "cell_type": "code",
   "execution_count": 8,
   "metadata": {},
   "outputs": [
    {
     "name": "stdout",
     "output_type": "stream",
     "text": [
      "GMM-HMM Transition Matrix: \n",
      "[[1.79047330e-01 4.72591277e-01 3.48361393e-01]\n",
      " [1.59355497e-03 5.05360107e-05 9.98355909e-01]\n",
      " [9.73700185e-01 2.59338904e-02 3.65925036e-04]]\n",
      "\n",
      "GMM-HMM Means : \n",
      "[[[-0.32495488]\n",
      "  [ 0.21348363]]\n",
      "\n",
      " [[ 0.75333689]\n",
      "  [ 0.19405407]]\n",
      "\n",
      " [[ 0.09248296]\n",
      "  [-0.21138654]]]\n",
      "\n",
      "GMM-HMM Covariance :\n",
      "[[[0.9277494 ]\n",
      "  [0.8089055 ]]\n",
      "\n",
      " [[0.94887448]\n",
      "  [1.11405218]]\n",
      "\n",
      " [[0.94456122]\n",
      "  [0.90421287]]]\n",
      "\n",
      "GMM-HMM Mixing Weights : \n",
      " [[0.50437089 0.49562911]\n",
      " [0.35022433 0.64977567]\n",
      " [0.69479007 0.30520993]]\n",
      "\n",
      "\n",
      "Decoded state sequence :\n",
      " [1 2 0 2 0 1 2 0 2 0 1 2 0 1 2 0 1 2 0 1 2 0 1 2 0 2 0 1 2 0 1 2 0 2 0 1 2\n",
      " 0 1 2 0 1 2 0 1 2 0 1 2 0 1 2 0 1 2 0 1 2 0 1 2 0 1 2 0 1 2 0 1 2 0 1 2 0\n",
      " 1 2 0 1 2 0 1 2 0 1 2 0 1 2 0 1 2 0 1 2 0 1 2 0 1 2]\n"
     ]
    }
   ],
   "source": [
    "print(f'GMM-HMM Transition Matrix: \\n{model.transmat_}')\n",
    "print(f'\\nGMM-HMM Means : \\n{model.means_}')\n",
    "print(f'\\nGMM-HMM Covariance :\\n{model.covars_}')\n",
    "print(f'\\nGMM-HMM Mixing Weights : \\n {model.weights_}')\n",
    "\n",
    "print(f'\\n\\nDecoded state sequence :\\n {state_sequence}')"
   ]
  },
  {
   "cell_type": "code",
   "execution_count": null,
   "metadata": {},
   "outputs": [
    {
     "name": "stdout",
     "output_type": "stream",
     "text": [
      "GMM-HMM Transition Matrix: \n",
      "[[1.79047330e-01 4.72591277e-01 3.48361393e-01]\n",
      " [1.59355497e-03 5.05360107e-05 9.98355909e-01]\n",
      " [9.73700185e-01 2.59338904e-02 3.65925036e-04]]\n",
      "\n",
      "GMM-HMM Means : \n",
      "[[[-0.32495488]\n",
      "  [ 0.21348363]]\n",
      "\n",
      " [[ 0.75333689]\n",
      "  [ 0.19405407]]\n",
      "\n",
      " [[ 0.09248296]\n",
      "  [-0.21138654]]]\n",
      "\n",
      "GMM-HMM Covariance :\n",
      "[[[0.9277494 ]\n",
      "  [0.8089055 ]]\n",
      "\n",
      " [[0.94887448]\n",
      "  [1.11405218]]\n",
      "\n",
      " [[0.94456122]\n",
      "  [0.90421287]]]\n",
      "\n",
      "GMM-HMM Mixing Weights : \n",
      " [[0.50437089 0.49562911]\n",
      " [0.35022433 0.64977567]\n",
      " [0.69479007 0.30520993]]\n",
      "\n",
      "\n",
      "Decoded state sequence :\n",
      " [1 2 0 2 0 1 2 0 2 0 1 2 0 1 2 0 1 2 0 1 2 0 1 2 0 2 0 1 2 0 1 2 0 2 0 1 2\n",
      " 0 1 2 0 1 2 0 1 2 0 1 2 0 1 2 0 1 2 0 1 2 0 1 2 0 1 2 0 1 2 0 1 2 0 1 2 0\n",
      " 1 2 0 1 2 0 1 2 0 1 2 0 1 2 0 1 2 0 1 2 0 1 2 0 1 2]\n"
     ]
    }
   ],
   "source": [
    "print(f'GMM-HMM Transition Matrix: \\n{model.transmat_}')\n",
    "print(f'\\nGMM-HMM Means : \\n{model.means_}')\n",
    "print(f'\\nGMM-HMM Covariance :\\n{model.covars_}')\n",
    "print(f'\\nGMM-HMM Mixing Weights : \\n {model.weights_}')\n",
    "\n",
    "print(f'\\n\\nDecoded state sequence :\\n {state_sequence}')"
   ]
  },
  {
   "cell_type": "code",
   "execution_count": null,
   "metadata": {},
   "outputs": [
    {
     "name": "stdout",
     "output_type": "stream",
     "text": [
      "GMM-HMM Transition Matrix: \n",
      "[[1.79047330e-01 4.72591277e-01 3.48361393e-01]\n",
      " [1.59355497e-03 5.05360107e-05 9.98355909e-01]\n",
      " [9.73700185e-01 2.59338904e-02 3.65925036e-04]]\n",
      "\n",
      "GMM-HMM Means : \n",
      "[[[-0.32495488]\n",
      "  [ 0.21348363]]\n",
      "\n",
      " [[ 0.75333689]\n",
      "  [ 0.19405407]]\n",
      "\n",
      " [[ 0.09248296]\n",
      "  [-0.21138654]]]\n",
      "\n",
      "GMM-HMM Covariance :\n",
      "[[[0.9277494 ]\n",
      "  [0.8089055 ]]\n",
      "\n",
      " [[0.94887448]\n",
      "  [1.11405218]]\n",
      "\n",
      " [[0.94456122]\n",
      "  [0.90421287]]]\n",
      "\n",
      "GMM-HMM Mixing Weights : \n",
      " [[0.50437089 0.49562911]\n",
      " [0.35022433 0.64977567]\n",
      " [0.69479007 0.30520993]]\n",
      "\n",
      "\n",
      "Decoded state sequence :\n",
      " [1 2 0 2 0 1 2 0 2 0 1 2 0 1 2 0 1 2 0 1 2 0 1 2 0 2 0 1 2 0 1 2 0 2 0 1 2\n",
      " 0 1 2 0 1 2 0 1 2 0 1 2 0 1 2 0 1 2 0 1 2 0 1 2 0 1 2 0 1 2 0 1 2 0 1 2 0\n",
      " 1 2 0 1 2 0 1 2 0 1 2 0 1 2 0 1 2 0 1 2 0 1 2 0 1 2]\n"
     ]
    }
   ],
   "source": [
    "print(f'GMM-HMM Transition Matrix: \\n{model.transmat_}')\n",
    "print(f'\\nGMM-HMM Means : \\n{model.means_}')\n",
    "print(f'\\nGMM-HMM Covariance :\\n{model.covars_}')\n",
    "print(f'\\nGMM-HMM Mixing Weights : \\n {model.weights_}')\n",
    "\n",
    "print(f'\\n\\nDecoded state sequence :\\n {state_sequence}')"
   ]
  },
  {
   "cell_type": "code",
   "execution_count": null,
   "metadata": {},
   "outputs": [],
   "source": []
  }
 ],
 "metadata": {
  "kernelspec": {
   "display_name": "speechenv",
   "language": "python",
   "name": "python3"
  },
  "language_info": {
   "codemirror_mode": {
    "name": "ipython",
    "version": 3
   },
   "file_extension": ".py",
   "mimetype": "text/x-python",
   "name": "python",
   "nbconvert_exporter": "python",
   "pygments_lexer": "ipython3",
   "version": "3.8.1"
  },
  "orig_nbformat": 4
 },
 "nbformat": 4,
 "nbformat_minor": 2
}
