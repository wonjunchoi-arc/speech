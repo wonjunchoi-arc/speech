{
 "cells": [
  {
   "cell_type": "code",
   "execution_count": null,
   "metadata": {},
   "outputs": [],
   "source": []
  },
  {
   "cell_type": "markdown",
   "metadata": {},
   "source": [
    "## 언어 모델"
   ]
  },
  {
   "cell_type": "markdown",
   "metadata": {},
   "source": [
    "# N-gram 만들기\n",
    "반복문을 사용하여 N-gram만들기(글자단위)"
   ]
  },
  {
   "cell_type": "code",
   "execution_count": 1,
   "metadata": {},
   "outputs": [],
   "source": [
    "text = 'hello'"
   ]
  },
  {
   "cell_type": "code",
   "execution_count": 2,
   "metadata": {},
   "outputs": [
    {
     "name": "stdout",
     "output_type": "stream",
     "text": [
      "h\n",
      "e\n",
      "l\n",
      "l\n",
      "o\n"
     ]
    }
   ],
   "source": [
    "# unigram\n",
    "for i in range(len(text)):\n",
    "    print(text[i],sep='')"
   ]
  },
  {
   "cell_type": "code",
   "execution_count": 4,
   "metadata": {},
   "outputs": [
    {
     "name": "stdout",
     "output_type": "stream",
     "text": [
      "he\n",
      "el\n",
      "ll\n",
      "lo\n"
     ]
    }
   ],
   "source": [
    "# bigram\n",
    "for i in range(len(text)-1):\n",
    "    print(text[i],text[i+1],sep='')"
   ]
  },
  {
   "cell_type": "code",
   "execution_count": 6,
   "metadata": {},
   "outputs": [
    {
     "name": "stdout",
     "output_type": "stream",
     "text": [
      "hel\n",
      "ell\n",
      "llo\n"
     ]
    }
   ],
   "source": [
    "# trigram\n",
    "for i in range(len(text)-2):\n",
    "    print(text[i],text[i+1],text[i+2],sep='')"
   ]
  },
  {
   "cell_type": "markdown",
   "metadata": {},
   "source": [
    "반복문을 사용하여 N-gram만들기(글자단위)"
   ]
  },
  {
   "cell_type": "code",
   "execution_count": 7,
   "metadata": {},
   "outputs": [],
   "source": [
    "sentence = 'this in python script'"
   ]
  },
  {
   "cell_type": "code",
   "execution_count": 8,
   "metadata": {},
   "outputs": [
    {
     "data": {
      "text/plain": [
       "['this', 'in', 'python', 'script']"
      ]
     },
     "execution_count": 8,
     "metadata": {},
     "output_type": "execute_result"
    }
   ],
   "source": [
    "words =sentence.split()\n",
    "words"
   ]
  },
  {
   "cell_type": "code",
   "execution_count": 9,
   "metadata": {},
   "outputs": [
    {
     "name": "stdout",
     "output_type": "stream",
     "text": [
      "this in\n",
      "in python\n",
      "python script\n"
     ]
    }
   ],
   "source": [
    "#bigram\n",
    "for i in range(len(words)-1):\n",
    "    print(words[i], words[i+1])"
   ]
  },
  {
   "cell_type": "code",
   "execution_count": 14,
   "metadata": {},
   "outputs": [
    {
     "data": {
      "text/plain": [
       "['in', 'python', 'script']"
      ]
     },
     "execution_count": 14,
     "metadata": {},
     "output_type": "execute_result"
    }
   ],
   "source": [
    "words[1:]"
   ]
  },
  {
   "cell_type": "markdown",
   "metadata": {},
   "source": [
    "zip() 함수 이용 N-gram 만들기"
   ]
  },
  {
   "cell_type": "code",
   "execution_count": 13,
   "metadata": {},
   "outputs": [
    {
     "name": "stdout",
     "output_type": "stream",
     "text": [
      "[('this', 'in'), ('in', 'python'), ('python', 'script')]\n"
     ]
    }
   ],
   "source": [
    "bigram = zip(words, words[1:])\n",
    "print(list(bigram))"
   ]
  },
  {
   "cell_type": "code",
   "execution_count": null,
   "metadata": {},
   "outputs": [],
   "source": [
    "\n",
    "for w in bigram :\n",
    "    print(w[0],w[1])"
   ]
  },
  {
   "cell_type": "code",
   "execution_count": 11,
   "metadata": {},
   "outputs": [
    {
     "name": "stdout",
     "output_type": "stream",
     "text": [
      "('this', 'in')\n",
      "('in', 'python')\n",
      "('python', 'script')\n"
     ]
    }
   ],
   "source": [
    "for word in list(zip(words, words[1:])):\n",
    "    print(word)"
   ]
  },
  {
   "cell_type": "markdown",
   "metadata": {},
   "source": [
    "list comprehension으로 N-gram만들기"
   ]
  },
  {
   "cell_type": "code",
   "execution_count": 16,
   "metadata": {},
   "outputs": [],
   "source": [
    "unigram =list(zip(*[text[i:] for i in range(1)]))\n",
    "bigram =list(zip(*[text[i:] for i in range(2)]))"
   ]
  },
  {
   "cell_type": "code",
   "execution_count": 17,
   "metadata": {},
   "outputs": [
    {
     "name": "stdout",
     "output_type": "stream",
     "text": [
      "unigram : [('h',), ('e',), ('l',), ('l',), ('o',)]\n"
     ]
    }
   ],
   "source": [
    "print(f'unigram : {unigram}')"
   ]
  },
  {
   "cell_type": "code",
   "execution_count": 18,
   "metadata": {},
   "outputs": [
    {
     "name": "stdout",
     "output_type": "stream",
     "text": [
      "bigram: [('h', 'e'), ('e', 'l'), ('l', 'l'), ('l', 'o')]\n"
     ]
    }
   ],
   "source": [
    "print(f'bigram: {bigram}')"
   ]
  },
  {
   "cell_type": "markdown",
   "metadata": {},
   "source": [
    "N-gram을 이용한 유사도 판단"
   ]
  },
  {
   "cell_type": "code",
   "execution_count": 22,
   "metadata": {},
   "outputs": [],
   "source": [
    "#N=gram 생성함수\n",
    "# s : N-gram 생성 대상\n",
    "# num : N-geam의 N\n",
    "def ngram(s,num):\n",
    "    res = []\n",
    "    slen = len(s)-num+1\n",
    "    for i in range(slen):\n",
    "        ss = s[i: i+num]\n",
    "        res.append(ss)\n",
    "        \n",
    "    return res"
   ]
  },
  {
   "cell_type": "code",
   "execution_count": 23,
   "metadata": {},
   "outputs": [],
   "source": [
    "# 유사도 판별 함수\n",
    "#sa : 문장 a\n",
    "#sb : 문장 b\n",
    "#num :N-gram의 N\n",
    "def diff_ngram(sa,sb,num):\n",
    "    a= ngram(sa,num)\n",
    "    b= ngram(sb,num)\n",
    "    r =[]\n",
    "    cnt =0\n",
    "    for worda in a:\n",
    "        for wordb in b:\n",
    "            if worda == wordb:\n",
    "                cnt +=1\n",
    "                r.append(worda)\n",
    "                \n",
    "    return cnt / len(a),r"
   ]
  },
  {
   "cell_type": "code",
   "execution_count": 24,
   "metadata": {},
   "outputs": [],
   "source": [
    "sentence1 = '오늘 강남에서 맛있는 스파게티를 먹었다'\n",
    "sentence2 = '강남에서 먹었던 오늘의 스파기티는 맛있었다.'"
   ]
  },
  {
   "cell_type": "code",
   "execution_count": 26,
   "metadata": {},
   "outputs": [
    {
     "name": "stdout",
     "output_type": "stream",
     "text": [
      "bigram :\n",
      "0.65\n",
      "['오늘', '강남', '남에', '에서', '서 ', ' 맛', '맛있', '는 ', ' 스', '스파', ' 먹', '먹었', '었다']\n",
      "\n",
      "bigram :\n",
      "0.3157894736842105\n",
      "['강남에', '남에서', '에서 ', ' 맛있', ' 스파', ' 먹었']\n",
      "\n"
     ]
    }
   ],
   "source": [
    "r2, word2 = diff_ngram(sentence1, sentence2,2)\n",
    "print(f'bigram :\\n{r2}\\n{word2}\\n')\n",
    "\n",
    "r3, word3 = diff_ngram(sentence1, sentence2,3)\n",
    "print(f'bigram :\\n{r3}\\n{word3}\\n')"
   ]
  },
  {
   "cell_type": "code",
   "execution_count": null,
   "metadata": {},
   "outputs": [],
   "source": []
  }
 ],
 "metadata": {
  "kernelspec": {
   "display_name": "speechenv",
   "language": "python",
   "name": "python3"
  },
  "language_info": {
   "codemirror_mode": {
    "name": "ipython",
    "version": 3
   },
   "file_extension": ".py",
   "mimetype": "text/x-python",
   "name": "python",
   "nbconvert_exporter": "python",
   "pygments_lexer": "ipython3",
   "version": "3.8.1"
  },
  "orig_nbformat": 4
 },
 "nbformat": 4,
 "nbformat_minor": 2
}
