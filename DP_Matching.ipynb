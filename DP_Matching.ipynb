{
 "cells": [
  {
   "cell_type": "code",
   "execution_count": null,
   "metadata": {},
   "outputs": [],
   "source": []
  },
  {
   "cell_type": "markdown",
   "metadata": {},
   "source": [
    "## DP Matching\n",
    "DP(Dynamic Programming, 동적 계획법)\n",
    "-이미 진행이 되었던 연산이 반복되는 결점 보완\n",
    "-여러 개의 소문제로 분할하여 각 소문제의 해결안을 바탕으로 주어진 문제 해결\n",
    "-각 소문제는 다시 여러개의 소문제로 분할 가능\n",
    "-DP 적용 절차\n",
    "  처음 진행되는 연산기록\n",
    "  이미 진행했던 연산이라면 기록되어 있는 값을 호출\n",
    "  시간 및 지우너 절약가능\n",
    "-DP 적용 방식\n",
    "  Top-down 방식 -Memoization\n",
    "    하위 문제에 대하여 정답을 계산했는지 확인해가며 문제를 자연스럽게 풀어나가는 방식\n",
    "  Bottom up 방식 -Tabulation\n",
    "    더 자긍ㄴ 하위문제부타 살펴본 다음 작은 문제의 정답을 이용하여 큰 문제의 정답을 풀어가는 방법\n",
    "\n",
    "-DP를 적용하는 문제\n",
    "  DP- 소문제의 결과를 다른 소문제를 푸는데 사용하는 풀이법\n",
    "  최적성의 원리를 만족하는지 판단해야한다.\n",
    "    -최적성의 원리- 부분해가 전체 문제의 해를 구하는데 사용되는지 의미\n",
    "  최적성의 원리가 적용되는 것이 확인됐으면 주어진 문제를 소문제로 분해햐여 최적해를 제공하는 점화식 도출 \n",
    "\n",
    "\n",
    "배경 : 특정한 단어나 문장을 발화하더라도 사람에 따라 발화의 길이가 달라지는 문제가 생긴다. 즉 음성에서의 시간 흔들림 문제가 발생하게 된다. 때문에 이러한 동일한 단어 문장에 대한 발화의 위치를 맞춰줘야한다(언라이먼트를 맞춰준다). \n",
    "\n",
    "때문에 발화에서 특정 음소를 찾게 되며 동일한 음소를 계속해서 찾게 될 때 자원적인 낭비를 줄이기 위해 DP를 사용 하는 것이다. "
   ]
  },
  {
   "cell_type": "markdown",
   "metadata": {},
   "source": [
    "DP Matching\n",
    "\n",
    " -음성에 대한 Alignment를 추정하면서 거리를 계산하는 기법\n",
    "\n",
    " -DP Matching 프로세스\n",
    "\n",
    "   음성 특성 추출 - MFCC\n",
    "   언어 모델 및 어휘(발화사전)을 사용하여 음성에서 가능한 음소 또는 단어 집합 정의\n",
    "\n",
    "   DP Matching\n",
    "    MFCC를 음소 또는 단어 시퀀스와 정렬 작업\n",
    "    DP 행렬이 구성되며 각 요소는 음향 특징 프레임과 언어 모델의 특정 음소 또는 단어간의 일치를 나타내는 점수 저장\n",
    "\n",
    "    DP Matching에서 얻은 최상의 정렬 경로는 입력 오디오에 해당하는 인식된 음소 또는 단어 시퀀스를 나타낸다. (ex 동일한 문장이라도 발화의 시작이 다를 수 있으므로 발화의 시작점을 DP Matching을 통해 맞춰놓으면 그 다음 부터 음소를 찾는 최적의 경로를 찾았다고 표현할 수 있을 것이다.)\n",
    "    \n",
    "-음성 인식의 DP Matching 원리는 음향 기능을 언어 단위와 효율적으로 정렬하여 연속적인 오디오 신호를 개별 언어 엔티티로 효과적으로 변환\n"
   ]
  },
  {
   "cell_type": "code",
   "execution_count": 24,
   "metadata": {},
   "outputs": [],
   "source": [
    "import random\n",
    "\n",
    "import os\n",
    "from tqdm import tqdm\n",
    "\n",
    "import numpy as np\n",
    "import matplotlib.pyplot as plt\n",
    "\n",
    "import soundfile as sf\n",
    "import librosa\n",
    "import librosa.display\n",
    "import random\n",
    "\n",
    "import IPython.display as idp\n",
    "\n",
    "# 푸리에 변환을 위한 라이브러리\n",
    "import math\n",
    "from scipy.interpolate import splrep, splev"
   ]
  },
  {
   "cell_type": "markdown",
   "metadata": {},
   "source": [
    "## 재귀 호출"
   ]
  },
  {
   "cell_type": "code",
   "execution_count": 1,
   "metadata": {},
   "outputs": [],
   "source": [
    "def pibonacci_recur(n) :\n",
    "    if n >=2:\n",
    "        return pibonacci_recur(n-1) +pibonacci_recur(n-2)\n",
    "    else:\n",
    "        return n"
   ]
  },
  {
   "cell_type": "markdown",
   "metadata": {},
   "source": [
    "피보나치 수열 : 앞으 두항의 합이 해당 항이 되는 수열\n"
   ]
  },
  {
   "cell_type": "code",
   "execution_count": 4,
   "metadata": {},
   "outputs": [
    {
     "name": "stdout",
     "output_type": "stream",
     "text": [
      "2\n"
     ]
    }
   ],
   "source": [
    "n = int(input('number:'))\n",
    "print(pibonacci_recur(n))"
   ]
  },
  {
   "cell_type": "markdown",
   "metadata": {},
   "source": [
    "### 동적계획법(DP) 사용\n",
    "Momoization(Top-Down, 하향식)"
   ]
  },
  {
   "cell_type": "code",
   "execution_count": 15,
   "metadata": {},
   "outputs": [],
   "source": [
    "dp_memo = [0]*11\n",
    "dp_memo[0]=1\n",
    "dp_memo[1]=1\n",
    "\n",
    "def fib_memo(n) :\n",
    "    if dp_memo[n] ==0 :\n",
    "        dp_memo[n] = fib_memo(n-1)+fib_memo(n-2)\n",
    "    return dp_memo[n]"
   ]
  },
  {
   "cell_type": "code",
   "execution_count": 17,
   "metadata": {},
   "outputs": [
    {
     "name": "stdout",
     "output_type": "stream",
     "text": [
      "[1, 1, 2, 3, 5, 8, 13, 21, 34, 55, 89]\n"
     ]
    }
   ],
   "source": [
    "fib_memo(10)\n",
    "# dp_memo[10]이 계산되기 위해 dp_memo[9],dp_memo[8]이 재귀적으로 호출되고 지정된 숫자가 있는\n",
    "#dp_memo[0],dp_memo[1]에 도달하기 까지 계속해서 계산된다. 미리 저장된 값이 있다면 계산을 하지 않겠지\n",
    "print(dp_memo)"
   ]
  },
  {
   "cell_type": "markdown",
   "metadata": {},
   "source": [
    "# Tabulation \n",
    "(Bottom up, 상향식)"
   ]
  },
  {
   "cell_type": "code",
   "execution_count": 18,
   "metadata": {},
   "outputs": [],
   "source": [
    "# Tabulation 1\n",
    "def fib_tab1(n):\n",
    "    dp_tab =[0]*(n+1)\n",
    "    dp_tab[0], dp_tab[1]=1,1\n",
    "    \n",
    "    #작은 값(소문재)부터 직접 계산하며 진행\n",
    "    # 2항 ~n항까지 피보나치 수열 계산\n",
    "    for i in range(2, n+1):\n",
    "        dp_tab[i] = dp_tab[i-1]+dp_tab[i-2]\n",
    "        \n",
    "    print(dp_tab)\n",
    "    \n",
    "    return dp_tab[n]"
   ]
  },
  {
   "cell_type": "code",
   "execution_count": 19,
   "metadata": {},
   "outputs": [
    {
     "name": "stdout",
     "output_type": "stream",
     "text": [
      "[1, 1, 2, 3, 5, 8, 13, 21, 34, 55, 89]\n"
     ]
    },
    {
     "data": {
      "text/plain": [
       "89"
      ]
     },
     "execution_count": 19,
     "metadata": {},
     "output_type": "execute_result"
    }
   ],
   "source": [
    "fib_tab1(10)"
   ]
  },
  {
   "cell_type": "code",
   "execution_count": 21,
   "metadata": {},
   "outputs": [],
   "source": [
    "#Tabilation 2\n",
    "def fib_tab2(n):\n",
    "    p = [1,1]\n",
    "    for i in range(2, n+1): #n 번째가지 피보나치 수열 나열\n",
    "        p.append(p[-1] + p[-2])#마지막 2 요소의 합을 리스트에 추가\n",
    "        print(p)\n",
    "        \n",
    "    return p[-1] #피보나치 n번째 값 반환"
   ]
  },
  {
   "cell_type": "code",
   "execution_count": 22,
   "metadata": {},
   "outputs": [
    {
     "name": "stdout",
     "output_type": "stream",
     "text": [
      "[1, 1, 2]\n",
      "[1, 1, 2, 3]\n",
      "[1, 1, 2, 3, 5]\n",
      "[1, 1, 2, 3, 5, 8]\n",
      "[1, 1, 2, 3, 5, 8, 13]\n",
      "[1, 1, 2, 3, 5, 8, 13, 21]\n",
      "[1, 1, 2, 3, 5, 8, 13, 21, 34]\n",
      "[1, 1, 2, 3, 5, 8, 13, 21, 34, 55]\n",
      "[1, 1, 2, 3, 5, 8, 13, 21, 34, 55, 89]\n"
     ]
    },
    {
     "data": {
      "text/plain": [
       "89"
      ]
     },
     "execution_count": 22,
     "metadata": {},
     "output_type": "execute_result"
    }
   ],
   "source": [
    "fib_tab2(10)"
   ]
  },
  {
   "cell_type": "markdown",
   "metadata": {},
   "source": [
    "## DP Matching"
   ]
  },
  {
   "cell_type": "code",
   "execution_count": 25,
   "metadata": {},
   "outputs": [],
   "source": [
    "mfcc_features = np.random.rand(100,13)#MFCC, 100frames, 13MFCC\n",
    "phoneme_sequence= ['a','e','i'] #sample sequence"
   ]
  },
  {
   "cell_type": "code",
   "execution_count": 29,
   "metadata": {},
   "outputs": [],
   "source": [
    "#MFCC프레임을 음소와 정렬하기 위한 비용함수 \n",
    "def cost_function(mfcc_features, phoneme): \n",
    "    return np.linalg.norm(mfcc_features - len(phoneme_sequence)) #MFCC 간의 유클리드 거리계산  "
   ]
  },
  {
   "cell_type": "code",
   "execution_count": 30,
   "metadata": {},
   "outputs": [
    {
     "name": "stdout",
     "output_type": "stream",
     "text": [
      "5.477225575051661\n"
     ]
    }
   ],
   "source": [
    "# 예시코드 유클라디안 거리계산에 대한\n",
    "A = np.array([[1, 2], [3, 4]])\n",
    "norm_A = np.linalg.norm(A)\n",
    "print(norm_A)  # Output: 5.477225575051661 (sqrt(1^2 + 2^2 + 3^2 + 4^2) = 5.477225575051661)"
   ]
  },
  {
   "cell_type": "code",
   "execution_count": 31,
   "metadata": {},
   "outputs": [],
   "source": [
    "# MFCC를 음소 시퀀스와 정렬하는 DP Matching 함수\n",
    "def dp_matching(mfcc_features, phoneme_sequence):\n",
    "    n_frmaes = mfcc_features.shape[0]\n",
    "    n_phonemes= len(phoneme_sequence)\n",
    "    \n",
    "    dp_matrix = np.zeros((n_frmaes,n_phonemes))\n",
    "    trackbakc_matrix = np.zeros((n_frmaes,n_phonemes),dtype=int)\n",
    "    #DP matrix 채우기\n",
    "    for i in range(n_frmaes):\n",
    "        for j in range(n_phonemes):\n",
    "            cost = cost_function(mfcc_features[i], phoneme_sequence[j])\n",
    "            if i == 0:\n",
    "                dp_matrix[i,j] = cost\n",
    "            else:\n",
    "                candidates = [dp_matrix[i-1,k] for k in range(n_phonemes)]\n",
    "                dp_matrix[i,j] = cost + min(candidates)\n",
    "                trackbakc_matrix[i,j] = np.argmin(candidates)\n",
    "    # 최적의 정렬 경로를 찾기 위한 Back Track\n",
    "    aligment_path = []\n",
    "    last_phoneme_index = np.argmin(dp_matrix[-1])\n",
    "    for i in range(n_frmaes-1,-1,-1):\n",
    "        aligment_path.append(phoneme_sequence[last_phoneme_index])\n",
    "        last_phoneme_index = trackbakc_matrix[i,last_phoneme_index]\n",
    "    aligment_path.reverse()\n",
    "    return aligment_path"
   ]
  },
  {
   "cell_type": "markdown",
   "metadata": {},
   "source": [
    "MFCC값과 발화사전등의 각 구성요소간의 유클라디안 거리를 계산하여 MFCC값에 가장가까운 값들을 정렬하는 것이라고 보면된다.\n"
   ]
  },
  {
   "cell_type": "code",
   "execution_count": 32,
   "metadata": {},
   "outputs": [
    {
     "name": "stdout",
     "output_type": "stream",
     "text": [
      "Aligned Phoneme Sequence: ['a', 'a', 'a', 'a', 'a', 'a', 'a', 'a', 'a', 'a', 'a', 'a', 'a', 'a', 'a', 'a', 'a', 'a', 'a', 'a', 'a', 'a', 'a', 'a', 'a', 'a', 'a', 'a', 'a', 'a', 'a', 'a', 'a', 'a', 'a', 'a', 'a', 'a', 'a', 'a', 'a', 'a', 'a', 'a', 'a', 'a', 'a', 'a', 'a', 'a', 'a', 'a', 'a', 'a', 'a', 'a', 'a', 'a', 'a', 'a', 'a', 'a', 'a', 'a', 'a', 'a', 'a', 'a', 'a', 'a', 'a', 'a', 'a', 'a', 'a', 'a', 'a', 'a', 'a', 'a', 'a', 'a', 'a', 'a', 'a', 'a', 'a', 'a', 'a', 'a', 'a', 'a', 'a', 'a', 'a', 'a', 'a', 'a', 'a', 'a']\n"
     ]
    }
   ],
   "source": [
    "aligned_phoneme =dp_matching(mfcc_features,phoneme_sequence)\n",
    "print(f'Aligned Phoneme Sequence: {aligned_phoneme}')"
   ]
  },
  {
   "cell_type": "code",
   "execution_count": null,
   "metadata": {},
   "outputs": [
    {
     "name": "stdout",
     "output_type": "stream",
     "text": [
      "Aligned Phoneme Sequence: ['a', 'a', 'a', 'a', 'a', 'a', 'a', 'a', 'a', 'a', 'a', 'a', 'a', 'a', 'a', 'a', 'a', 'a', 'a', 'a', 'a', 'a', 'a', 'a', 'a', 'a', 'a', 'a', 'a', 'a', 'a', 'a', 'a', 'a', 'a', 'a', 'a', 'a', 'a', 'a', 'a', 'a', 'a', 'a', 'a', 'a', 'a', 'a', 'a', 'a', 'a', 'a', 'a', 'a', 'a', 'a', 'a', 'a', 'a', 'a', 'a', 'a', 'a', 'a', 'a', 'a', 'a', 'a', 'a', 'a', 'a', 'a', 'a', 'a', 'a', 'a', 'a', 'a', 'a', 'a', 'a', 'a', 'a', 'a', 'a', 'a', 'a', 'a', 'a', 'a', 'a', 'a', 'a', 'a', 'a', 'a', 'a', 'a', 'a', 'a']\n"
     ]
    }
   ],
   "source": [
    "aligned_phoneme =dp_matching(mfcc_features,phoneme_sequence)\n",
    "print(f'Aligned Phoneme Sequence: {aligned_phoneme}')"
   ]
  },
  {
   "cell_type": "code",
   "execution_count": 1,
   "metadata": {},
   "outputs": [],
   "source": [
    "from tensorflow.python.client import device_lib\n"
   ]
  },
  {
   "cell_type": "code",
   "execution_count": 2,
   "metadata": {},
   "outputs": [
    {
     "name": "stdout",
     "output_type": "stream",
     "text": [
      "[name: \"/device:CPU:0\"\n",
      "device_type: \"CPU\"\n",
      "memory_limit: 268435456\n",
      "locality {\n",
      "}\n",
      "incarnation: 11170413137670634346\n",
      "xla_global_id: -1\n",
      "]\n"
     ]
    }
   ],
   "source": [
    "print(device_lib.list_local_devices())"
   ]
  },
  {
   "cell_type": "code",
   "execution_count": null,
   "metadata": {},
   "outputs": [],
   "source": []
  }
 ],
 "metadata": {
  "kernelspec": {
   "display_name": "speechenv",
   "language": "python",
   "name": "python3"
  },
  "language_info": {
   "codemirror_mode": {
    "name": "ipython",
    "version": 3
   },
   "file_extension": ".py",
   "mimetype": "text/x-python",
   "name": "python",
   "nbconvert_exporter": "python",
   "pygments_lexer": "ipython3",
   "version": "3.8.1"
  },
  "orig_nbformat": 4
 },
 "nbformat": 4,
 "nbformat_minor": 2
}
